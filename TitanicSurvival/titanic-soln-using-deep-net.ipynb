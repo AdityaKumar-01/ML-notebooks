{
 "cells": [
  {
   "cell_type": "code",
   "execution_count": 1,
   "metadata": {
    "_cell_guid": "b1076dfc-b9ad-4769-8c92-a6c4dae69d19",
    "_uuid": "8f2839f25d086af736a60e9eeb907d3b93b6e0e5"
   },
   "outputs": [],
   "source": [
    "import pandas as pd\n",
    "import numpy as np \n",
    "import seaborn as sns \n",
    "import matplotlib.pyplot as plt"
   ]
  },
  {
   "cell_type": "code",
   "execution_count": 2,
   "metadata": {},
   "outputs": [],
   "source": [
    "df_train = pd.read_csv(\"./Data/train.csv\")\n",
    "df_test = pd.read_csv('./Data/test.csv')"
   ]
  },
  {
   "cell_type": "code",
   "execution_count": 3,
   "metadata": {},
   "outputs": [
    {
     "data": {
      "text/html": [
       "<div>\n",
       "<style scoped>\n",
       "    .dataframe tbody tr th:only-of-type {\n",
       "        vertical-align: middle;\n",
       "    }\n",
       "\n",
       "    .dataframe tbody tr th {\n",
       "        vertical-align: top;\n",
       "    }\n",
       "\n",
       "    .dataframe thead th {\n",
       "        text-align: right;\n",
       "    }\n",
       "</style>\n",
       "<table border=\"1\" class=\"dataframe\">\n",
       "  <thead>\n",
       "    <tr style=\"text-align: right;\">\n",
       "      <th></th>\n",
       "      <th>PassengerId</th>\n",
       "      <th>Survived</th>\n",
       "      <th>Pclass</th>\n",
       "      <th>Name</th>\n",
       "      <th>Sex</th>\n",
       "      <th>Age</th>\n",
       "      <th>SibSp</th>\n",
       "      <th>Parch</th>\n",
       "      <th>Ticket</th>\n",
       "      <th>Fare</th>\n",
       "      <th>Cabin</th>\n",
       "      <th>Embarked</th>\n",
       "    </tr>\n",
       "  </thead>\n",
       "  <tbody>\n",
       "    <tr>\n",
       "      <th>0</th>\n",
       "      <td>1</td>\n",
       "      <td>0</td>\n",
       "      <td>3</td>\n",
       "      <td>Braund, Mr. Owen Harris</td>\n",
       "      <td>male</td>\n",
       "      <td>22.0</td>\n",
       "      <td>1</td>\n",
       "      <td>0</td>\n",
       "      <td>A/5 21171</td>\n",
       "      <td>7.2500</td>\n",
       "      <td>NaN</td>\n",
       "      <td>S</td>\n",
       "    </tr>\n",
       "    <tr>\n",
       "      <th>1</th>\n",
       "      <td>2</td>\n",
       "      <td>1</td>\n",
       "      <td>1</td>\n",
       "      <td>Cumings, Mrs. John Bradley (Florence Briggs Th...</td>\n",
       "      <td>female</td>\n",
       "      <td>38.0</td>\n",
       "      <td>1</td>\n",
       "      <td>0</td>\n",
       "      <td>PC 17599</td>\n",
       "      <td>71.2833</td>\n",
       "      <td>C85</td>\n",
       "      <td>C</td>\n",
       "    </tr>\n",
       "    <tr>\n",
       "      <th>2</th>\n",
       "      <td>3</td>\n",
       "      <td>1</td>\n",
       "      <td>3</td>\n",
       "      <td>Heikkinen, Miss. Laina</td>\n",
       "      <td>female</td>\n",
       "      <td>26.0</td>\n",
       "      <td>0</td>\n",
       "      <td>0</td>\n",
       "      <td>STON/O2. 3101282</td>\n",
       "      <td>7.9250</td>\n",
       "      <td>NaN</td>\n",
       "      <td>S</td>\n",
       "    </tr>\n",
       "    <tr>\n",
       "      <th>3</th>\n",
       "      <td>4</td>\n",
       "      <td>1</td>\n",
       "      <td>1</td>\n",
       "      <td>Futrelle, Mrs. Jacques Heath (Lily May Peel)</td>\n",
       "      <td>female</td>\n",
       "      <td>35.0</td>\n",
       "      <td>1</td>\n",
       "      <td>0</td>\n",
       "      <td>113803</td>\n",
       "      <td>53.1000</td>\n",
       "      <td>C123</td>\n",
       "      <td>S</td>\n",
       "    </tr>\n",
       "    <tr>\n",
       "      <th>4</th>\n",
       "      <td>5</td>\n",
       "      <td>0</td>\n",
       "      <td>3</td>\n",
       "      <td>Allen, Mr. William Henry</td>\n",
       "      <td>male</td>\n",
       "      <td>35.0</td>\n",
       "      <td>0</td>\n",
       "      <td>0</td>\n",
       "      <td>373450</td>\n",
       "      <td>8.0500</td>\n",
       "      <td>NaN</td>\n",
       "      <td>S</td>\n",
       "    </tr>\n",
       "  </tbody>\n",
       "</table>\n",
       "</div>"
      ],
      "text/plain": [
       "   PassengerId  Survived  Pclass  \\\n",
       "0            1         0       3   \n",
       "1            2         1       1   \n",
       "2            3         1       3   \n",
       "3            4         1       1   \n",
       "4            5         0       3   \n",
       "\n",
       "                                                Name     Sex   Age  SibSp  \\\n",
       "0                            Braund, Mr. Owen Harris    male  22.0      1   \n",
       "1  Cumings, Mrs. John Bradley (Florence Briggs Th...  female  38.0      1   \n",
       "2                             Heikkinen, Miss. Laina  female  26.0      0   \n",
       "3       Futrelle, Mrs. Jacques Heath (Lily May Peel)  female  35.0      1   \n",
       "4                           Allen, Mr. William Henry    male  35.0      0   \n",
       "\n",
       "   Parch            Ticket     Fare Cabin Embarked  \n",
       "0      0         A/5 21171   7.2500   NaN        S  \n",
       "1      0          PC 17599  71.2833   C85        C  \n",
       "2      0  STON/O2. 3101282   7.9250   NaN        S  \n",
       "3      0            113803  53.1000  C123        S  \n",
       "4      0            373450   8.0500   NaN        S  "
      ]
     },
     "execution_count": 3,
     "metadata": {},
     "output_type": "execute_result"
    }
   ],
   "source": [
    "df_train.head()"
   ]
  },
  {
   "cell_type": "code",
   "execution_count": 4,
   "metadata": {},
   "outputs": [
    {
     "data": {
      "text/html": [
       "<div>\n",
       "<style scoped>\n",
       "    .dataframe tbody tr th:only-of-type {\n",
       "        vertical-align: middle;\n",
       "    }\n",
       "\n",
       "    .dataframe tbody tr th {\n",
       "        vertical-align: top;\n",
       "    }\n",
       "\n",
       "    .dataframe thead th {\n",
       "        text-align: right;\n",
       "    }\n",
       "</style>\n",
       "<table border=\"1\" class=\"dataframe\">\n",
       "  <thead>\n",
       "    <tr style=\"text-align: right;\">\n",
       "      <th></th>\n",
       "      <th>count</th>\n",
       "      <th>mean</th>\n",
       "      <th>std</th>\n",
       "      <th>min</th>\n",
       "      <th>25%</th>\n",
       "      <th>50%</th>\n",
       "      <th>75%</th>\n",
       "      <th>max</th>\n",
       "    </tr>\n",
       "  </thead>\n",
       "  <tbody>\n",
       "    <tr>\n",
       "      <th>PassengerId</th>\n",
       "      <td>891.0</td>\n",
       "      <td>446.000000</td>\n",
       "      <td>257.353842</td>\n",
       "      <td>1.00</td>\n",
       "      <td>223.5000</td>\n",
       "      <td>446.0000</td>\n",
       "      <td>668.5</td>\n",
       "      <td>891.0000</td>\n",
       "    </tr>\n",
       "    <tr>\n",
       "      <th>Survived</th>\n",
       "      <td>891.0</td>\n",
       "      <td>0.383838</td>\n",
       "      <td>0.486592</td>\n",
       "      <td>0.00</td>\n",
       "      <td>0.0000</td>\n",
       "      <td>0.0000</td>\n",
       "      <td>1.0</td>\n",
       "      <td>1.0000</td>\n",
       "    </tr>\n",
       "    <tr>\n",
       "      <th>Pclass</th>\n",
       "      <td>891.0</td>\n",
       "      <td>2.308642</td>\n",
       "      <td>0.836071</td>\n",
       "      <td>1.00</td>\n",
       "      <td>2.0000</td>\n",
       "      <td>3.0000</td>\n",
       "      <td>3.0</td>\n",
       "      <td>3.0000</td>\n",
       "    </tr>\n",
       "    <tr>\n",
       "      <th>Age</th>\n",
       "      <td>714.0</td>\n",
       "      <td>29.699118</td>\n",
       "      <td>14.526497</td>\n",
       "      <td>0.42</td>\n",
       "      <td>20.1250</td>\n",
       "      <td>28.0000</td>\n",
       "      <td>38.0</td>\n",
       "      <td>80.0000</td>\n",
       "    </tr>\n",
       "    <tr>\n",
       "      <th>SibSp</th>\n",
       "      <td>891.0</td>\n",
       "      <td>0.523008</td>\n",
       "      <td>1.102743</td>\n",
       "      <td>0.00</td>\n",
       "      <td>0.0000</td>\n",
       "      <td>0.0000</td>\n",
       "      <td>1.0</td>\n",
       "      <td>8.0000</td>\n",
       "    </tr>\n",
       "    <tr>\n",
       "      <th>Parch</th>\n",
       "      <td>891.0</td>\n",
       "      <td>0.381594</td>\n",
       "      <td>0.806057</td>\n",
       "      <td>0.00</td>\n",
       "      <td>0.0000</td>\n",
       "      <td>0.0000</td>\n",
       "      <td>0.0</td>\n",
       "      <td>6.0000</td>\n",
       "    </tr>\n",
       "    <tr>\n",
       "      <th>Fare</th>\n",
       "      <td>891.0</td>\n",
       "      <td>32.204208</td>\n",
       "      <td>49.693429</td>\n",
       "      <td>0.00</td>\n",
       "      <td>7.9104</td>\n",
       "      <td>14.4542</td>\n",
       "      <td>31.0</td>\n",
       "      <td>512.3292</td>\n",
       "    </tr>\n",
       "  </tbody>\n",
       "</table>\n",
       "</div>"
      ],
      "text/plain": [
       "             count        mean         std   min       25%       50%    75%  \\\n",
       "PassengerId  891.0  446.000000  257.353842  1.00  223.5000  446.0000  668.5   \n",
       "Survived     891.0    0.383838    0.486592  0.00    0.0000    0.0000    1.0   \n",
       "Pclass       891.0    2.308642    0.836071  1.00    2.0000    3.0000    3.0   \n",
       "Age          714.0   29.699118   14.526497  0.42   20.1250   28.0000   38.0   \n",
       "SibSp        891.0    0.523008    1.102743  0.00    0.0000    0.0000    1.0   \n",
       "Parch        891.0    0.381594    0.806057  0.00    0.0000    0.0000    0.0   \n",
       "Fare         891.0   32.204208   49.693429  0.00    7.9104   14.4542   31.0   \n",
       "\n",
       "                  max  \n",
       "PassengerId  891.0000  \n",
       "Survived       1.0000  \n",
       "Pclass         3.0000  \n",
       "Age           80.0000  \n",
       "SibSp          8.0000  \n",
       "Parch          6.0000  \n",
       "Fare         512.3292  "
      ]
     },
     "execution_count": 4,
     "metadata": {},
     "output_type": "execute_result"
    }
   ],
   "source": [
    "df_train.describe().transpose()"
   ]
  },
  {
   "cell_type": "code",
   "execution_count": 5,
   "metadata": {},
   "outputs": [
    {
     "data": {
      "text/plain": [
       "Index(['PassengerId', 'Survived', 'Pclass', 'Name', 'Sex', 'Age', 'SibSp',\n",
       "       'Parch', 'Ticket', 'Fare', 'Cabin', 'Embarked'],\n",
       "      dtype='object')"
      ]
     },
     "execution_count": 5,
     "metadata": {},
     "output_type": "execute_result"
    }
   ],
   "source": [
    "df_train.columns"
   ]
  },
  {
   "cell_type": "code",
   "execution_count": 6,
   "metadata": {},
   "outputs": [
    {
     "data": {
      "text/plain": [
       "<matplotlib.axes._subplots.AxesSubplot at 0x1cf32217df0>"
      ]
     },
     "execution_count": 6,
     "metadata": {},
     "output_type": "execute_result"
    },
    {
     "data": {
      "image/png": "[encoded data removed]",
      "text/plain": [
       "<Figure size 1080x432 with 1 Axes>"
      ]
     },
     "metadata": {
      "needs_background": "light"
     },
     "output_type": "display_data"
    }
   ],
   "source": [
    "plt.figure(figsize=(15,6))\n",
    "plt.xlabel(\"Attributes name\")\n",
    "plt.ylabel(\"Missing values\")\n",
    "plt.title(\"Missing values in different attribues of train dataset \")\n",
    "df_train.isnull().sum().plot(kind='bar')"
   ]
  },
  {
   "cell_type": "code",
   "execution_count": 7,
   "metadata": {},
   "outputs": [],
   "source": [
    "df_train.drop('Cabin', axis=1, inplace=True)\n",
    "df_test.drop('Cabin', axis=1, inplace=True)"
   ]
  },
  {
   "cell_type": "code",
   "execution_count": 8,
   "metadata": {},
   "outputs": [
    {
     "data": {
      "text/plain": [
       "<matplotlib.axes._subplots.AxesSubplot at 0x1cf32357040>"
      ]
     },
     "execution_count": 8,
     "metadata": {},
     "output_type": "execute_result"
    },
    {
     "data": {
      "image/png": "[encoded data removed]",
      "text/plain": [
       "<Figure size 1080x432 with 1 Axes>"
      ]
     },
     "metadata": {
      "needs_background": "light"
     },
     "output_type": "display_data"
    }
   ],
   "source": [
    "plt.figure(figsize=(15,6))\n",
    "plt.xlabel(\"Attributes name\")\n",
    "plt.ylabel(\"Missing values\")\n",
    "plt.title(\"Missing values in different attribues of train dataset \")\n",
    "df_train.isnull().sum().plot(kind='bar')"
   ]
  },
  {
   "cell_type": "code",
   "execution_count": 9,
   "metadata": {},
   "outputs": [],
   "source": [
    "df_train = df_train[df_train['Embarked'].notnull()]"
   ]
  },
  {
   "cell_type": "code",
   "execution_count": 10,
   "metadata": {},
   "outputs": [
    {
     "data": {
      "text/plain": [
       "<matplotlib.axes._subplots.AxesSubplot at 0x1cf32753f70>"
      ]
     },
     "execution_count": 10,
     "metadata": {},
     "output_type": "execute_result"
    },
    {
     "data": {
      "image/png": "[encoded data removed]",
      "text/plain": [
       "<Figure size 1080x432 with 1 Axes>"
      ]
     },
     "metadata": {
      "needs_background": "light"
     },
     "output_type": "display_data"
    }
   ],
   "source": [
    "plt.figure(figsize=(15,6))\n",
    "plt.xlabel(\"Attributes name\")\n",
    "plt.ylabel(\"Missing values\")\n",
    "plt.title(\"Missing values in different attribues of train dataset \")\n",
    "df_train.isnull().sum().plot(kind='bar')"
   ]
  },
  {
   "cell_type": "code",
   "execution_count": 11,
   "metadata": {},
   "outputs": [
    {
     "data": {
      "text/plain": [
       "<matplotlib.axes._subplots.AxesSubplot at 0x1cf32584fd0>"
      ]
     },
     "execution_count": 11,
     "metadata": {},
     "output_type": "execute_result"
    },
    {
     "data": {
      "image/png": "[encoded data removed]",
      "text/plain": [
       "<Figure size 1080x720 with 1 Axes>"
      ]
     },
     "metadata": {
      "needs_background": "light"
     },
     "output_type": "display_data"
    }
   ],
   "source": [
    "plt.figure(figsize=(15,10))\n",
    "sns.boxplot(y=df_train['Age'], x=df_train['Pclass'])"
   ]
  },
  {
   "cell_type": "code",
   "execution_count": 12,
   "metadata": {},
   "outputs": [],
   "source": [
    "# above graph helps to find avg age of a person travelling in a class\n",
    "# Like in 1st class passengers are having an avg age of 37\n",
    "def impute_Age(cols):\n",
    "    Age=cols[0]\n",
    "    Pclass=cols[1]\n",
    "    if pd.isnull(Age):\n",
    "        if Pclass == 1:\n",
    "            Age=37\n",
    "        elif Pclass == 2:\n",
    "            Age=29\n",
    "        elif Pclass == 3:\n",
    "            Age = 25\n",
    "    return Age"
   ]
  },
  {
   "cell_type": "code",
   "execution_count": 13,
   "metadata": {},
   "outputs": [],
   "source": [
    "df_train['Age'] = df_train[['Age', 'Pclass']].apply(impute_Age, axis=1)"
   ]
  },
  {
   "cell_type": "code",
   "execution_count": 14,
   "metadata": {},
   "outputs": [],
   "source": [
    "df_test['Age'] = df_test[['Age', 'Pclass']].apply(impute_Age, axis=1)"
   ]
  },
  {
   "cell_type": "code",
   "execution_count": 15,
   "metadata": {},
   "outputs": [
    {
     "data": {
      "text/plain": [
       "<matplotlib.axes._subplots.AxesSubplot at 0x1cf32844b50>"
      ]
     },
     "execution_count": 15,
     "metadata": {},
     "output_type": "execute_result"
    },
    {
     "data": {
      "image/png": "[encoded data removed]",
      "text/plain": [
       "<Figure size 1080x432 with 1 Axes>"
      ]
     },
     "metadata": {
      "needs_background": "light"
     },
     "output_type": "display_data"
    }
   ],
   "source": [
    "plt.figure(figsize=(15,6))\n",
    "plt.xlabel(\"Attributes name\")\n",
    "plt.ylabel(\"Missing values\")\n",
    "plt.title(\"Missing values in different attribues of train dataset \")\n",
    "df_train.isnull().sum().plot(kind='bar')"
   ]
  },
  {
   "cell_type": "code",
   "execution_count": 16,
   "metadata": {},
   "outputs": [],
   "source": [
    "#No missing values \n",
    "sex=pd.get_dummies(df_train['Sex'],drop_first=True)\n",
    "Embark=pd.get_dummies(df_train['Embarked'],drop_first=True)\n",
    "df_train=pd.concat([df_train,sex,Embark],axis=1)"
   ]
  },
  {
   "cell_type": "code",
   "execution_count": 17,
   "metadata": {},
   "outputs": [],
   "source": [
    "sex=pd.get_dummies(df_test['Sex'],drop_first=True)\n",
    "Embark=pd.get_dummies(df_test['Embarked'],drop_first=True)\n",
    "df_test=pd.concat([df_test,sex,Embark],axis=1)"
   ]
  },
  {
   "cell_type": "code",
   "execution_count": 18,
   "metadata": {},
   "outputs": [],
   "source": [
    "id = df_test['PassengerId']"
   ]
  },
  {
   "cell_type": "code",
   "execution_count": 19,
   "metadata": {},
   "outputs": [],
   "source": [
    "df_train.drop(['PassengerId','Name','Ticket'],axis=1,inplace=True)\n",
    "df_test.drop(['PassengerId','Name','Ticket'],axis=1,inplace=True)"
   ]
  },
  {
   "cell_type": "code",
   "execution_count": 20,
   "metadata": {},
   "outputs": [
    {
     "data": {
      "text/plain": [
       "Index(['Survived', 'Pclass', 'Sex', 'Age', 'SibSp', 'Parch', 'Fare',\n",
       "       'Embarked', 'male', 'Q', 'S'],\n",
       "      dtype='object')"
      ]
     },
     "execution_count": 20,
     "metadata": {},
     "output_type": "execute_result"
    }
   ],
   "source": [
    "df_train.columns"
   ]
  },
  {
   "cell_type": "code",
   "execution_count": 21,
   "metadata": {},
   "outputs": [],
   "source": [
    "df_train.drop(['Sex','Embarked'], axis=1,inplace=True)\n",
    "df_test.drop(['Sex','Embarked'], axis=1,inplace=True)\n"
   ]
  },
  {
   "cell_type": "code",
   "execution_count": 22,
   "metadata": {},
   "outputs": [
    {
     "name": "stdout",
     "output_type": "stream",
     "text": [
      "Index(['Survived', 'Pclass', 'Age', 'SibSp', 'Parch', 'Fare', 'male', 'Q',\n",
      "       'S'],\n",
      "      dtype='object')\n",
      "No. of columns : 9\n"
     ]
    }
   ],
   "source": [
    "print(df_train.columns)\n",
    "print(f\"No. of columns : {len(df_train.columns)}\")\n"
   ]
  },
  {
   "cell_type": "code",
   "execution_count": 23,
   "metadata": {},
   "outputs": [],
   "source": [
    "from tensorflow.keras.models import Sequential\n",
    "from tensorflow.keras.layers import Dense,Dropout\n",
    "from tensorflow.keras.callbacks import EarlyStopping"
   ]
  },
  {
   "cell_type": "code",
   "execution_count": 24,
   "metadata": {},
   "outputs": [],
   "source": [
    "from sklearn.model_selection import train_test_split"
   ]
  },
  {
   "cell_type": "code",
   "execution_count": 25,
   "metadata": {},
   "outputs": [],
   "source": [
    "X = df_train.drop('Survived', axis=1).values\n",
    "y= df_train['Survived'].values"
   ]
  },
  {
   "cell_type": "code",
   "execution_count": 26,
   "metadata": {},
   "outputs": [],
   "source": [
    "X_train, X_test, y_train, y_test = train_test_split(X,y, test_size=0.25, random_state=101)"
   ]
  },
  {
   "cell_type": "code",
   "execution_count": 27,
   "metadata": {},
   "outputs": [],
   "source": [
    "from sklearn.preprocessing import MinMaxScaler"
   ]
  },
  {
   "cell_type": "code",
   "execution_count": 28,
   "metadata": {},
   "outputs": [],
   "source": [
    "scaler = MinMaxScaler()"
   ]
  },
  {
   "cell_type": "code",
   "execution_count": 29,
   "metadata": {},
   "outputs": [],
   "source": [
    "X_train = scaler.fit_transform(X_train)"
   ]
  },
  {
   "cell_type": "code",
   "execution_count": 30,
   "metadata": {},
   "outputs": [],
   "source": [
    "X_test = scaler.transform(X_test)"
   ]
  },
  {
   "cell_type": "code",
   "execution_count": 31,
   "metadata": {},
   "outputs": [],
   "source": [
    "model = Sequential()\n",
    "\n",
    "model.add(Dense(9, activation='relu'))\n",
    "model.add(Dense(9, activation='relu'))\n",
    "model.add(Dense(9, activation='relu'))\n",
    "model.add(Dense(1, activation='sigmoid'))\n",
    "\n",
    "model.compile(loss='binary_crossentropy', optimizer='adam')"
   ]
  },
  {
   "cell_type": "code",
   "execution_count": 32,
   "metadata": {},
   "outputs": [
    {
     "name": "stdout",
     "output_type": "stream",
     "text": [
      "Epoch 1/400\n",
      "6/6 [==============================] - 3s 431ms/step - loss: 0.6984 - val_loss: 0.6911\n",
      "Epoch 2/400\n",
      "6/6 [==============================] - 0s 17ms/step - loss: 0.6881 - val_loss: 0.6818\n",
      "Epoch 3/400\n",
      "6/6 [==============================] - 0s 18ms/step - loss: 0.6792 - val_loss: 0.6728\n",
      "Epoch 4/400\n",
      "6/6 [==============================] - 0s 15ms/step - loss: 0.6691 - val_loss: 0.6645\n",
      "Epoch 5/400\n",
      "6/6 [==============================] - 0s 14ms/step - loss: 0.6578 - val_loss: 0.6567\n",
      "Epoch 6/400\n",
      "6/6 [==============================] - 0s 17ms/step - loss: 0.6529 - val_loss: 0.6495\n",
      "Epoch 7/400\n",
      "6/6 [==============================] - 0s 26ms/step - loss: 0.6478 - val_loss: 0.6427\n",
      "Epoch 8/400\n",
      "6/6 [==============================] - 0s 25ms/step - loss: 0.6327 - val_loss: 0.6363\n",
      "Epoch 9/400\n",
      "6/6 [==============================] - 0s 25ms/step - loss: 0.6352 - val_loss: 0.6302\n",
      "Epoch 10/400\n",
      "6/6 [==============================] - 0s 22ms/step - loss: 0.6252 - val_loss: 0.6243\n",
      "Epoch 11/400\n",
      "6/6 [==============================] - 0s 24ms/step - loss: 0.6194 - val_loss: 0.6187\n",
      "Epoch 12/400\n",
      "6/6 [==============================] - 0s 31ms/step - loss: 0.6189 - val_loss: 0.6128\n",
      "Epoch 13/400\n",
      "6/6 [==============================] - 0s 30ms/step - loss: 0.6107 - val_loss: 0.6068\n",
      "Epoch 14/400\n",
      "6/6 [==============================] - 0s 13ms/step - loss: 0.5983 - val_loss: 0.6001\n",
      "Epoch 15/400\n",
      "6/6 [==============================] - 0s 15ms/step - loss: 0.5900 - val_loss: 0.5915\n",
      "Epoch 16/400\n",
      "6/6 [==============================] - 0s 18ms/step - loss: 0.5967 - val_loss: 0.5828\n",
      "Epoch 17/400\n",
      "6/6 [==============================] - 0s 17ms/step - loss: 0.5805 - val_loss: 0.5744\n",
      "Epoch 18/400\n",
      "6/6 [==============================] - 0s 16ms/step - loss: 0.5624 - val_loss: 0.5657\n",
      "Epoch 19/400\n",
      "6/6 [==============================] - 0s 15ms/step - loss: 0.5520 - val_loss: 0.5581\n",
      "Epoch 20/400\n",
      "6/6 [==============================] - 0s 15ms/step - loss: 0.5486 - val_loss: 0.5511\n",
      "Epoch 21/400\n",
      "6/6 [==============================] - 0s 13ms/step - loss: 0.5344 - val_loss: 0.5436\n",
      "Epoch 22/400\n",
      "6/6 [==============================] - 0s 16ms/step - loss: 0.5371 - val_loss: 0.5361\n",
      "Epoch 23/400\n",
      "6/6 [==============================] - 0s 17ms/step - loss: 0.5242 - val_loss: 0.5293\n",
      "Epoch 24/400\n",
      "6/6 [==============================] - 0s 18ms/step - loss: 0.5236 - val_loss: 0.5232\n",
      "Epoch 25/400\n",
      "6/6 [==============================] - 0s 19ms/step - loss: 0.5331 - val_loss: 0.5178\n",
      "Epoch 26/400\n",
      "6/6 [==============================] - 0s 18ms/step - loss: 0.5012 - val_loss: 0.5133\n",
      "Epoch 27/400\n",
      "6/6 [==============================] - 0s 24ms/step - loss: 0.5029 - val_loss: 0.5100\n",
      "Epoch 28/400\n",
      "6/6 [==============================] - 0s 30ms/step - loss: 0.5042 - val_loss: 0.5064\n",
      "Epoch 29/400\n",
      "6/6 [==============================] - 0s 26ms/step - loss: 0.5102 - val_loss: 0.5031\n",
      "Epoch 30/400\n",
      "6/6 [==============================] - 0s 18ms/step - loss: 0.5052 - val_loss: 0.5001\n",
      "Epoch 31/400\n",
      "6/6 [==============================] - 0s 17ms/step - loss: 0.5112 - val_loss: 0.4983\n",
      "Epoch 32/400\n",
      "6/6 [==============================] - 0s 17ms/step - loss: 0.4915 - val_loss: 0.4965\n",
      "Epoch 33/400\n",
      "6/6 [==============================] - 0s 17ms/step - loss: 0.4751 - val_loss: 0.4949\n",
      "Epoch 34/400\n",
      "6/6 [==============================] - 0s 23ms/step - loss: 0.4906 - val_loss: 0.4928\n",
      "Epoch 35/400\n",
      "6/6 [==============================] - 0s 22ms/step - loss: 0.4684 - val_loss: 0.4908\n",
      "Epoch 36/400\n",
      "6/6 [==============================] - 0s 18ms/step - loss: 0.4861 - val_loss: 0.4884\n",
      "Epoch 37/400\n",
      "6/6 [==============================] - 0s 17ms/step - loss: 0.4782 - val_loss: 0.4860\n",
      "Epoch 38/400\n",
      "6/6 [==============================] - 0s 16ms/step - loss: 0.5044 - val_loss: 0.4849\n",
      "Epoch 39/400\n",
      "6/6 [==============================] - 0s 17ms/step - loss: 0.4800 - val_loss: 0.4841\n",
      "Epoch 40/400\n",
      "6/6 [==============================] - 0s 15ms/step - loss: 0.4826 - val_loss: 0.4823\n",
      "Epoch 41/400\n",
      "6/6 [==============================] - 0s 15ms/step - loss: 0.4986 - val_loss: 0.4800\n",
      "Epoch 42/400\n",
      "6/6 [==============================] - 0s 13ms/step - loss: 0.4797 - val_loss: 0.4779\n",
      "Epoch 43/400\n",
      "6/6 [==============================] - 0s 18ms/step - loss: 0.4778 - val_loss: 0.4769\n",
      "Epoch 44/400\n",
      "6/6 [==============================] - 0s 16ms/step - loss: 0.4802 - val_loss: 0.4783\n",
      "Epoch 45/400\n",
      "6/6 [==============================] - 0s 19ms/step - loss: 0.4918 - val_loss: 0.4775\n",
      "Epoch 46/400\n",
      "6/6 [==============================] - 0s 17ms/step - loss: 0.4644 - val_loss: 0.4740\n",
      "Epoch 47/400\n",
      "6/6 [==============================] - 0s 16ms/step - loss: 0.4560 - val_loss: 0.4700\n",
      "Epoch 48/400\n",
      "6/6 [==============================] - 0s 12ms/step - loss: 0.4725 - val_loss: 0.4679\n",
      "Epoch 49/400\n",
      "6/6 [==============================] - 0s 16ms/step - loss: 0.4852 - val_loss: 0.4673\n",
      "Epoch 50/400\n",
      "6/6 [==============================] - 0s 14ms/step - loss: 0.4611 - val_loss: 0.4680\n",
      "Epoch 51/400\n",
      "6/6 [==============================] - 0s 16ms/step - loss: 0.4567 - val_loss: 0.4715\n",
      "Epoch 52/400\n",
      "6/6 [==============================] - 0s 16ms/step - loss: 0.4724 - val_loss: 0.4674\n",
      "Epoch 53/400\n",
      "6/6 [==============================] - 0s 15ms/step - loss: 0.4592 - val_loss: 0.4634\n",
      "Epoch 54/400\n",
      "6/6 [==============================] - 0s 17ms/step - loss: 0.4707 - val_loss: 0.4622\n",
      "Epoch 55/400\n",
      "6/6 [==============================] - 0s 17ms/step - loss: 0.4659 - val_loss: 0.4618\n",
      "Epoch 56/400\n",
      "6/6 [==============================] - 0s 17ms/step - loss: 0.4606 - val_loss: 0.4624\n",
      "Epoch 57/400\n",
      "6/6 [==============================] - 0s 17ms/step - loss: 0.4694 - val_loss: 0.4612\n",
      "Epoch 58/400\n",
      "6/6 [==============================] - 0s 17ms/step - loss: 0.4657 - val_loss: 0.4626\n",
      "Epoch 59/400\n",
      "6/6 [==============================] - 0s 18ms/step - loss: 0.4694 - val_loss: 0.4610\n",
      "Epoch 60/400\n",
      "6/6 [==============================] - 0s 17ms/step - loss: 0.4823 - val_loss: 0.4586\n",
      "Epoch 61/400\n",
      "6/6 [==============================] - 0s 16ms/step - loss: 0.4835 - val_loss: 0.4576\n",
      "Epoch 62/400\n",
      "6/6 [==============================] - 0s 17ms/step - loss: 0.4547 - val_loss: 0.4583\n",
      "Epoch 63/400\n",
      "6/6 [==============================] - 0s 18ms/step - loss: 0.4535 - val_loss: 0.4566\n",
      "Epoch 64/400\n",
      "6/6 [==============================] - 0s 19ms/step - loss: 0.4799 - val_loss: 0.4552\n",
      "Epoch 65/400\n",
      "6/6 [==============================] - 0s 14ms/step - loss: 0.4765 - val_loss: 0.4534\n",
      "Epoch 66/400\n",
      "6/6 [==============================] - 0s 14ms/step - loss: 0.4831 - val_loss: 0.4538\n",
      "Epoch 67/400\n",
      "6/6 [==============================] - 0s 16ms/step - loss: 0.4567 - val_loss: 0.4524\n",
      "Epoch 68/400\n",
      "6/6 [==============================] - 0s 16ms/step - loss: 0.4603 - val_loss: 0.4515\n",
      "Epoch 69/400\n",
      "6/6 [==============================] - 0s 17ms/step - loss: 0.4846 - val_loss: 0.4500\n",
      "Epoch 70/400\n",
      "6/6 [==============================] - 0s 19ms/step - loss: 0.4733 - val_loss: 0.4491\n",
      "Epoch 71/400\n",
      "6/6 [==============================] - 0s 20ms/step - loss: 0.4263 - val_loss: 0.4484\n",
      "Epoch 72/400\n",
      "6/6 [==============================] - 0s 19ms/step - loss: 0.4800 - val_loss: 0.4475\n",
      "Epoch 73/400\n",
      "6/6 [==============================] - 0s 25ms/step - loss: 0.4461 - val_loss: 0.4494\n",
      "Epoch 74/400\n",
      "6/6 [==============================] - 0s 25ms/step - loss: 0.4515 - val_loss: 0.4515\n",
      "Epoch 75/400\n",
      "6/6 [==============================] - 0s 18ms/step - loss: 0.4796 - val_loss: 0.4521\n",
      "Epoch 76/400\n",
      "6/6 [==============================] - 0s 16ms/step - loss: 0.4664 - val_loss: 0.4499\n",
      "Epoch 77/400\n",
      "6/6 [==============================] - 0s 17ms/step - loss: 0.4747 - val_loss: 0.4470\n",
      "Epoch 78/400\n",
      "6/6 [==============================] - 0s 17ms/step - loss: 0.4496 - val_loss: 0.4453\n",
      "Epoch 79/400\n",
      "6/6 [==============================] - 0s 15ms/step - loss: 0.4634 - val_loss: 0.4457\n",
      "Epoch 80/400\n",
      "6/6 [==============================] - 0s 14ms/step - loss: 0.4584 - val_loss: 0.4434\n",
      "Epoch 81/400\n",
      "6/6 [==============================] - 0s 18ms/step - loss: 0.4643 - val_loss: 0.4432\n",
      "Epoch 82/400\n",
      "6/6 [==============================] - 0s 18ms/step - loss: 0.4391 - val_loss: 0.4438\n",
      "Epoch 83/400\n",
      "6/6 [==============================] - 0s 18ms/step - loss: 0.4434 - val_loss: 0.4451\n"
     ]
    },
    {
     "name": "stdout",
     "output_type": "stream",
     "text": [
      "Epoch 84/400\n",
      "6/6 [==============================] - 0s 18ms/step - loss: 0.4469 - val_loss: 0.4473\n",
      "Epoch 85/400\n",
      "6/6 [==============================] - 0s 17ms/step - loss: 0.4521 - val_loss: 0.4440\n",
      "Epoch 86/400\n",
      "6/6 [==============================] - 0s 17ms/step - loss: 0.4456 - val_loss: 0.4421\n",
      "Epoch 87/400\n",
      "6/6 [==============================] - 0s 18ms/step - loss: 0.4534 - val_loss: 0.4419\n",
      "Epoch 88/400\n",
      "6/6 [==============================] - 0s 17ms/step - loss: 0.4703 - val_loss: 0.4411\n",
      "Epoch 89/400\n",
      "6/6 [==============================] - 0s 21ms/step - loss: 0.4603 - val_loss: 0.4406\n",
      "Epoch 90/400\n",
      "6/6 [==============================] - 0s 26ms/step - loss: 0.4580 - val_loss: 0.4438\n",
      "Epoch 91/400\n",
      "6/6 [==============================] - 0s 28ms/step - loss: 0.4364 - val_loss: 0.4444\n",
      "Epoch 92/400\n",
      "6/6 [==============================] - 0s 27ms/step - loss: 0.4386 - val_loss: 0.4401\n",
      "Epoch 93/400\n",
      "6/6 [==============================] - 0s 28ms/step - loss: 0.4550 - val_loss: 0.4379\n",
      "Epoch 94/400\n",
      "6/6 [==============================] - 0s 28ms/step - loss: 0.4181 - val_loss: 0.4359\n",
      "Epoch 95/400\n",
      "6/6 [==============================] - 0s 32ms/step - loss: 0.4653 - val_loss: 0.4356\n",
      "Epoch 96/400\n",
      "6/6 [==============================] - 0s 30ms/step - loss: 0.4341 - val_loss: 0.4355\n",
      "Epoch 97/400\n",
      "6/6 [==============================] - 0s 27ms/step - loss: 0.4510 - val_loss: 0.4363\n",
      "Epoch 98/400\n",
      "6/6 [==============================] - 0s 29ms/step - loss: 0.4666 - val_loss: 0.4368\n",
      "Epoch 99/400\n",
      "6/6 [==============================] - 0s 29ms/step - loss: 0.4348 - val_loss: 0.4351\n",
      "Epoch 100/400\n",
      "6/6 [==============================] - 0s 29ms/step - loss: 0.4570 - val_loss: 0.4330\n",
      "Epoch 101/400\n",
      "6/6 [==============================] - 0s 29ms/step - loss: 0.4618 - val_loss: 0.4328\n",
      "Epoch 102/400\n",
      "6/6 [==============================] - 0s 27ms/step - loss: 0.4400 - val_loss: 0.4328\n",
      "Epoch 103/400\n",
      "6/6 [==============================] - 0s 28ms/step - loss: 0.4286 - val_loss: 0.4332\n",
      "Epoch 104/400\n",
      "6/6 [==============================] - 0s 26ms/step - loss: 0.4345 - val_loss: 0.4345\n",
      "Epoch 105/400\n",
      "6/6 [==============================] - 0s 30ms/step - loss: 0.4384 - val_loss: 0.4352\n",
      "Epoch 106/400\n",
      "6/6 [==============================] - 0s 24ms/step - loss: 0.4274 - val_loss: 0.4324\n",
      "Epoch 107/400\n",
      "6/6 [==============================] - 0s 16ms/step - loss: 0.4485 - val_loss: 0.4313\n",
      "Epoch 108/400\n",
      "6/6 [==============================] - 0s 18ms/step - loss: 0.4607 - val_loss: 0.4301\n",
      "Epoch 109/400\n",
      "6/6 [==============================] - 0s 16ms/step - loss: 0.4204 - val_loss: 0.4305\n",
      "Epoch 110/400\n",
      "6/6 [==============================] - 0s 18ms/step - loss: 0.4502 - val_loss: 0.4336\n",
      "Epoch 111/400\n",
      "6/6 [==============================] - 0s 17ms/step - loss: 0.4467 - val_loss: 0.4349\n",
      "Epoch 112/400\n",
      "6/6 [==============================] - 0s 17ms/step - loss: 0.4534 - val_loss: 0.4353\n",
      "Epoch 113/400\n",
      "6/6 [==============================] - 0s 14ms/step - loss: 0.4568 - val_loss: 0.4318\n",
      "Epoch 114/400\n",
      "6/6 [==============================] - 0s 18ms/step - loss: 0.4478 - val_loss: 0.4294\n",
      "Epoch 115/400\n",
      "6/6 [==============================] - 0s 18ms/step - loss: 0.4530 - val_loss: 0.4303\n",
      "Epoch 116/400\n",
      "6/6 [==============================] - 0s 18ms/step - loss: 0.4539 - val_loss: 0.4317\n",
      "Epoch 117/400\n",
      "6/6 [==============================] - 0s 17ms/step - loss: 0.4406 - val_loss: 0.4317\n",
      "Epoch 118/400\n",
      "6/6 [==============================] - 0s 16ms/step - loss: 0.4673 - val_loss: 0.4305\n",
      "Epoch 119/400\n",
      "6/6 [==============================] - 0s 17ms/step - loss: 0.4697 - val_loss: 0.4299\n",
      "Epoch 120/400\n",
      "6/6 [==============================] - 0s 17ms/step - loss: 0.4418 - val_loss: 0.4281\n",
      "Epoch 121/400\n",
      "6/6 [==============================] - 0s 17ms/step - loss: 0.4472 - val_loss: 0.4258\n",
      "Epoch 122/400\n",
      "6/6 [==============================] - 0s 17ms/step - loss: 0.4432 - val_loss: 0.4262\n",
      "Epoch 123/400\n",
      "6/6 [==============================] - 0s 16ms/step - loss: 0.4459 - val_loss: 0.4265\n",
      "Epoch 124/400\n",
      "6/6 [==============================] - 0s 17ms/step - loss: 0.4382 - val_loss: 0.4271\n",
      "Epoch 125/400\n",
      "6/6 [==============================] - 0s 16ms/step - loss: 0.4607 - val_loss: 0.4275\n",
      "Epoch 126/400\n",
      "6/6 [==============================] - 0s 16ms/step - loss: 0.4524 - val_loss: 0.4280\n",
      "Epoch 127/400\n",
      "6/6 [==============================] - 0s 16ms/step - loss: 0.4395 - val_loss: 0.4280\n",
      "Epoch 128/400\n",
      "6/6 [==============================] - 0s 16ms/step - loss: 0.4308 - val_loss: 0.4256\n",
      "Epoch 129/400\n",
      "6/6 [==============================] - 0s 17ms/step - loss: 0.4469 - val_loss: 0.4245\n",
      "Epoch 130/400\n",
      "6/6 [==============================] - 0s 16ms/step - loss: 0.4457 - val_loss: 0.4242\n",
      "Epoch 131/400\n",
      "6/6 [==============================] - 0s 16ms/step - loss: 0.4512 - val_loss: 0.4248\n",
      "Epoch 132/400\n",
      "6/6 [==============================] - 0s 18ms/step - loss: 0.4501 - val_loss: 0.4245\n",
      "Epoch 133/400\n",
      "6/6 [==============================] - 0s 18ms/step - loss: 0.4417 - val_loss: 0.4232\n",
      "Epoch 134/400\n",
      "6/6 [==============================] - 0s 18ms/step - loss: 0.4290 - val_loss: 0.4221\n",
      "Epoch 135/400\n",
      "6/6 [==============================] - 0s 17ms/step - loss: 0.4500 - val_loss: 0.4228\n",
      "Epoch 136/400\n",
      "6/6 [==============================] - 0s 15ms/step - loss: 0.4454 - val_loss: 0.4262\n",
      "Epoch 137/400\n",
      "6/6 [==============================] - 0s 16ms/step - loss: 0.4232 - val_loss: 0.4254\n",
      "Epoch 138/400\n",
      "6/6 [==============================] - 0s 16ms/step - loss: 0.4090 - val_loss: 0.4206\n",
      "Epoch 139/400\n",
      "6/6 [==============================] - 0s 16ms/step - loss: 0.4383 - val_loss: 0.4191\n",
      "Epoch 140/400\n",
      "6/6 [==============================] - 0s 18ms/step - loss: 0.4321 - val_loss: 0.4187\n",
      "Epoch 141/400\n",
      "6/6 [==============================] - 0s 18ms/step - loss: 0.4348 - val_loss: 0.4193\n",
      "Epoch 142/400\n",
      "6/6 [==============================] - 0s 16ms/step - loss: 0.4286 - val_loss: 0.4205\n",
      "Epoch 143/400\n",
      "6/6 [==============================] - 0s 17ms/step - loss: 0.4586 - val_loss: 0.4233\n",
      "Epoch 144/400\n",
      "6/6 [==============================] - ETA: 0s - loss: 0.456 - 0s 16ms/step - loss: 0.4455 - val_loss: 0.4212\n",
      "Epoch 145/400\n",
      "6/6 [==============================] - 0s 16ms/step - loss: 0.4461 - val_loss: 0.4191\n",
      "Epoch 146/400\n",
      "6/6 [==============================] - 0s 17ms/step - loss: 0.4198 - val_loss: 0.4170\n",
      "Epoch 147/400\n",
      "6/6 [==============================] - 0s 16ms/step - loss: 0.4282 - val_loss: 0.4178\n",
      "Epoch 148/400\n",
      "6/6 [==============================] - 0s 16ms/step - loss: 0.4371 - val_loss: 0.4197\n",
      "Epoch 149/400\n",
      "6/6 [==============================] - 0s 16ms/step - loss: 0.4250 - val_loss: 0.4217\n",
      "Epoch 150/400\n",
      "6/6 [==============================] - ETA: 0s - loss: 0.381 - 0s 18ms/step - loss: 0.4296 - val_loss: 0.4228\n",
      "Epoch 151/400\n",
      "6/6 [==============================] - 0s 18ms/step - loss: 0.4619 - val_loss: 0.4179\n",
      "Epoch 152/400\n",
      "6/6 [==============================] - 0s 16ms/step - loss: 0.4372 - val_loss: 0.4175\n",
      "Epoch 153/400\n",
      "6/6 [==============================] - 0s 17ms/step - loss: 0.4443 - val_loss: 0.4152\n",
      "Epoch 154/400\n",
      "6/6 [==============================] - 0s 17ms/step - loss: 0.4248 - val_loss: 0.4145\n",
      "Epoch 155/400\n",
      "6/6 [==============================] - 0s 17ms/step - loss: 0.4182 - val_loss: 0.4138\n",
      "Epoch 156/400\n",
      "6/6 [==============================] - 0s 16ms/step - loss: 0.4376 - val_loss: 0.4134\n",
      "Epoch 157/400\n",
      "6/6 [==============================] - 0s 17ms/step - loss: 0.4317 - val_loss: 0.4132\n",
      "Epoch 158/400\n",
      "6/6 [==============================] - 0s 16ms/step - loss: 0.4221 - val_loss: 0.4113\n",
      "Epoch 159/400\n",
      "6/6 [==============================] - 0s 17ms/step - loss: 0.4305 - val_loss: 0.4134\n",
      "Epoch 160/400\n",
      "6/6 [==============================] - 0s 17ms/step - loss: 0.4295 - val_loss: 0.4129\n",
      "Epoch 161/400\n",
      "6/6 [==============================] - 0s 17ms/step - loss: 0.4206 - val_loss: 0.4138\n",
      "Epoch 162/400\n",
      "6/6 [==============================] - 0s 17ms/step - loss: 0.4295 - val_loss: 0.4123\n",
      "Epoch 163/400\n",
      "6/6 [==============================] - 0s 17ms/step - loss: 0.4208 - val_loss: 0.4109\n",
      "Epoch 164/400\n",
      "6/6 [==============================] - 0s 16ms/step - loss: 0.4479 - val_loss: 0.4107\n",
      "Epoch 165/400\n"
     ]
    },
    {
     "name": "stdout",
     "output_type": "stream",
     "text": [
      "6/6 [==============================] - 0s 17ms/step - loss: 0.4434 - val_loss: 0.4112\n",
      "Epoch 166/400\n",
      "6/6 [==============================] - 0s 15ms/step - loss: 0.4270 - val_loss: 0.4137\n",
      "Epoch 167/400\n",
      "6/6 [==============================] - 0s 16ms/step - loss: 0.4248 - val_loss: 0.4139\n",
      "Epoch 168/400\n",
      "6/6 [==============================] - 0s 18ms/step - loss: 0.4372 - val_loss: 0.4103\n",
      "Epoch 169/400\n",
      "6/6 [==============================] - 0s 17ms/step - loss: 0.4442 - val_loss: 0.4115\n",
      "Epoch 170/400\n",
      "6/6 [==============================] - 0s 16ms/step - loss: 0.4389 - val_loss: 0.4120\n",
      "Epoch 171/400\n",
      "6/6 [==============================] - 0s 17ms/step - loss: 0.4262 - val_loss: 0.4132\n",
      "Epoch 172/400\n",
      "6/6 [==============================] - 0s 17ms/step - loss: 0.4103 - val_loss: 0.4095\n",
      "Epoch 173/400\n",
      "6/6 [==============================] - 0s 17ms/step - loss: 0.4337 - val_loss: 0.4078\n",
      "Epoch 174/400\n",
      "6/6 [==============================] - 0s 16ms/step - loss: 0.4350 - val_loss: 0.4092\n",
      "Epoch 175/400\n",
      "6/6 [==============================] - 0s 17ms/step - loss: 0.4293 - val_loss: 0.4109\n",
      "Epoch 176/400\n",
      "6/6 [==============================] - 0s 16ms/step - loss: 0.4202 - val_loss: 0.4099\n",
      "Epoch 177/400\n",
      "6/6 [==============================] - 0s 16ms/step - loss: 0.4245 - val_loss: 0.4093\n",
      "Epoch 178/400\n",
      "6/6 [==============================] - 0s 17ms/step - loss: 0.4229 - val_loss: 0.4077\n",
      "Epoch 179/400\n",
      "6/6 [==============================] - 0s 21ms/step - loss: 0.4384 - val_loss: 0.4064\n",
      "Epoch 180/400\n",
      "6/6 [==============================] - 0s 22ms/step - loss: 0.4267 - val_loss: 0.4061\n",
      "Epoch 181/400\n",
      "6/6 [==============================] - 0s 21ms/step - loss: 0.4227 - val_loss: 0.4059\n",
      "Epoch 182/400\n",
      "6/6 [==============================] - 0s 20ms/step - loss: 0.4273 - val_loss: 0.4042\n",
      "Epoch 183/400\n",
      "6/6 [==============================] - 0s 16ms/step - loss: 0.4261 - val_loss: 0.4059\n",
      "Epoch 184/400\n",
      "6/6 [==============================] - 0s 16ms/step - loss: 0.4354 - val_loss: 0.4062\n",
      "Epoch 185/400\n",
      "6/6 [==============================] - 0s 17ms/step - loss: 0.4316 - val_loss: 0.4069\n",
      "Epoch 186/400\n",
      "6/6 [==============================] - 0s 17ms/step - loss: 0.4430 - val_loss: 0.4080\n",
      "Epoch 187/400\n",
      "6/6 [==============================] - 0s 17ms/step - loss: 0.4257 - val_loss: 0.4119\n",
      "Epoch 188/400\n",
      "6/6 [==============================] - 0s 16ms/step - loss: 0.4120 - val_loss: 0.4113\n",
      "Epoch 189/400\n",
      "6/6 [==============================] - 0s 16ms/step - loss: 0.4158 - val_loss: 0.4058\n",
      "Epoch 190/400\n",
      "6/6 [==============================] - 0s 16ms/step - loss: 0.4388 - val_loss: 0.4032\n",
      "Epoch 191/400\n",
      "6/6 [==============================] - 0s 17ms/step - loss: 0.4281 - val_loss: 0.4032\n",
      "Epoch 192/400\n",
      "6/6 [==============================] - 0s 16ms/step - loss: 0.4346 - val_loss: 0.4041\n",
      "Epoch 193/400\n",
      "6/6 [==============================] - 0s 17ms/step - loss: 0.4381 - val_loss: 0.4039\n",
      "Epoch 194/400\n",
      "6/6 [==============================] - 0s 17ms/step - loss: 0.4305 - val_loss: 0.4050\n",
      "Epoch 195/400\n",
      "6/6 [==============================] - 0s 17ms/step - loss: 0.4145 - val_loss: 0.4018\n",
      "Epoch 196/400\n",
      "6/6 [==============================] - 0s 17ms/step - loss: 0.4359 - val_loss: 0.4009\n",
      "Epoch 197/400\n",
      "6/6 [==============================] - 0s 18ms/step - loss: 0.4143 - val_loss: 0.4017\n",
      "Epoch 198/400\n",
      "6/6 [==============================] - 0s 17ms/step - loss: 0.4286 - val_loss: 0.4036\n",
      "Epoch 199/400\n",
      "6/6 [==============================] - 0s 16ms/step - loss: 0.3970 - val_loss: 0.4016\n",
      "Epoch 200/400\n",
      "6/6 [==============================] - 0s 16ms/step - loss: 0.4501 - val_loss: 0.4039\n",
      "Epoch 201/400\n",
      "6/6 [==============================] - 0s 16ms/step - loss: 0.4372 - val_loss: 0.4046\n",
      "Epoch 202/400\n",
      "6/6 [==============================] - 0s 16ms/step - loss: 0.4290 - val_loss: 0.4029\n",
      "Epoch 203/400\n",
      "6/6 [==============================] - 0s 17ms/step - loss: 0.4274 - val_loss: 0.4037\n",
      "Epoch 204/400\n",
      "6/6 [==============================] - 0s 16ms/step - loss: 0.4494 - val_loss: 0.4018\n",
      "Epoch 205/400\n",
      "6/6 [==============================] - 0s 16ms/step - loss: 0.4297 - val_loss: 0.3993\n",
      "Epoch 206/400\n",
      "6/6 [==============================] - 0s 15ms/step - loss: 0.4380 - val_loss: 0.4000\n",
      "Epoch 207/400\n",
      "6/6 [==============================] - 0s 17ms/step - loss: 0.4274 - val_loss: 0.4029\n",
      "Epoch 208/400\n",
      "6/6 [==============================] - 0s 17ms/step - loss: 0.4337 - val_loss: 0.4049\n",
      "Epoch 209/400\n",
      "6/6 [==============================] - 0s 16ms/step - loss: 0.4417 - val_loss: 0.4029\n",
      "Epoch 210/400\n",
      "6/6 [==============================] - 0s 15ms/step - loss: 0.4002 - val_loss: 0.4013\n",
      "Epoch 211/400\n",
      "6/6 [==============================] - 0s 15ms/step - loss: 0.4526 - val_loss: 0.3979\n",
      "Epoch 212/400\n",
      "6/6 [==============================] - 0s 17ms/step - loss: 0.4211 - val_loss: 0.3979\n",
      "Epoch 213/400\n",
      "6/6 [==============================] - 0s 16ms/step - loss: 0.4257 - val_loss: 0.4008\n",
      "Epoch 214/400\n",
      "6/6 [==============================] - 0s 17ms/step - loss: 0.4243 - val_loss: 0.4013\n",
      "Epoch 215/400\n",
      "6/6 [==============================] - 0s 17ms/step - loss: 0.4246 - val_loss: 0.4016\n",
      "Epoch 216/400\n",
      "6/6 [==============================] - 0s 17ms/step - loss: 0.4422 - val_loss: 0.3992\n",
      "Epoch 217/400\n",
      "6/6 [==============================] - 0s 17ms/step - loss: 0.4269 - val_loss: 0.4004\n",
      "Epoch 218/400\n",
      "6/6 [==============================] - 0s 16ms/step - loss: 0.4322 - val_loss: 0.4004\n",
      "Epoch 219/400\n",
      "6/6 [==============================] - 0s 17ms/step - loss: 0.4240 - val_loss: 0.3999\n",
      "Epoch 220/400\n",
      "6/6 [==============================] - 0s 16ms/step - loss: 0.4110 - val_loss: 0.3983\n",
      "Epoch 221/400\n",
      "6/6 [==============================] - 0s 16ms/step - loss: 0.4251 - val_loss: 0.3978\n",
      "Epoch 222/400\n",
      "6/6 [==============================] - 0s 16ms/step - loss: 0.4376 - val_loss: 0.3983\n",
      "Epoch 223/400\n",
      "6/6 [==============================] - 0s 17ms/step - loss: 0.4232 - val_loss: 0.3995\n",
      "Epoch 224/400\n",
      "6/6 [==============================] - 0s 17ms/step - loss: 0.4273 - val_loss: 0.3982\n",
      "Epoch 225/400\n",
      "6/6 [==============================] - 0s 17ms/step - loss: 0.4179 - val_loss: 0.3989\n",
      "Epoch 226/400\n",
      "6/6 [==============================] - 0s 17ms/step - loss: 0.4342 - val_loss: 0.3978\n",
      "Epoch 227/400\n",
      "6/6 [==============================] - 0s 17ms/step - loss: 0.4262 - val_loss: 0.3960\n",
      "Epoch 228/400\n",
      "6/6 [==============================] - 0s 16ms/step - loss: 0.4206 - val_loss: 0.3959\n",
      "Epoch 229/400\n",
      "6/6 [==============================] - 0s 17ms/step - loss: 0.4156 - val_loss: 0.3969\n",
      "Epoch 230/400\n",
      "6/6 [==============================] - 0s 17ms/step - loss: 0.4148 - val_loss: 0.4009\n",
      "Epoch 231/400\n",
      "6/6 [==============================] - 0s 17ms/step - loss: 0.4268 - val_loss: 0.4006\n",
      "Epoch 232/400\n",
      "6/6 [==============================] - 0s 16ms/step - loss: 0.4213 - val_loss: 0.3972\n",
      "Epoch 233/400\n",
      "6/6 [==============================] - 0s 17ms/step - loss: 0.4223 - val_loss: 0.3975\n",
      "Epoch 234/400\n",
      "6/6 [==============================] - 0s 16ms/step - loss: 0.4076 - val_loss: 0.3994\n",
      "Epoch 235/400\n",
      "6/6 [==============================] - 0s 16ms/step - loss: 0.4173 - val_loss: 0.3980\n",
      "Epoch 236/400\n",
      "6/6 [==============================] - 0s 16ms/step - loss: 0.4418 - val_loss: 0.3982\n",
      "Epoch 237/400\n",
      "6/6 [==============================] - 0s 16ms/step - loss: 0.4205 - val_loss: 0.4003\n",
      "Epoch 238/400\n",
      "6/6 [==============================] - 0s 16ms/step - loss: 0.4208 - val_loss: 0.3977\n",
      "Epoch 239/400\n",
      "6/6 [==============================] - 0s 16ms/step - loss: 0.4272 - val_loss: 0.3937\n",
      "Epoch 240/400\n",
      "6/6 [==============================] - 0s 16ms/step - loss: 0.4127 - val_loss: 0.3937\n",
      "Epoch 241/400\n",
      "6/6 [==============================] - 0s 18ms/step - loss: 0.4279 - val_loss: 0.3949\n",
      "Epoch 242/400\n",
      "6/6 [==============================] - 0s 17ms/step - loss: 0.4180 - val_loss: 0.3964\n",
      "Epoch 243/400\n",
      "6/6 [==============================] - 0s 16ms/step - loss: 0.4323 - val_loss: 0.3968\n",
      "Epoch 244/400\n",
      "6/6 [==============================] - 0s 17ms/step - loss: 0.4096 - val_loss: 0.3994\n",
      "Epoch 245/400\n",
      "6/6 [==============================] - 0s 17ms/step - loss: 0.4115 - val_loss: 0.3977\n",
      "Epoch 246/400\n",
      "6/6 [==============================] - 0s 17ms/step - loss: 0.4062 - val_loss: 0.3950\n",
      "Epoch 247/400\n"
     ]
    },
    {
     "name": "stdout",
     "output_type": "stream",
     "text": [
      "6/6 [==============================] - 0s 17ms/step - loss: 0.4401 - val_loss: 0.3955\n",
      "Epoch 248/400\n",
      "6/6 [==============================] - ETA: 0s - loss: 0.439 - 0s 17ms/step - loss: 0.4322 - val_loss: 0.3976\n",
      "Epoch 249/400\n",
      "6/6 [==============================] - 0s 16ms/step - loss: 0.4213 - val_loss: 0.3971\n",
      "Epoch 250/400\n",
      "6/6 [==============================] - 0s 16ms/step - loss: 0.4404 - val_loss: 0.3954\n",
      "Epoch 251/400\n",
      "6/6 [==============================] - 0s 17ms/step - loss: 0.4087 - val_loss: 0.3955\n",
      "Epoch 252/400\n",
      "6/6 [==============================] - 0s 17ms/step - loss: 0.4290 - val_loss: 0.3974\n",
      "Epoch 253/400\n",
      "6/6 [==============================] - 0s 17ms/step - loss: 0.4233 - val_loss: 0.3939\n",
      "Epoch 254/400\n",
      "6/6 [==============================] - 0s 17ms/step - loss: 0.4449 - val_loss: 0.3933\n",
      "Epoch 255/400\n",
      "6/6 [==============================] - 0s 17ms/step - loss: 0.4486 - val_loss: 0.3934\n",
      "Epoch 256/400\n",
      "6/6 [==============================] - 0s 17ms/step - loss: 0.4112 - val_loss: 0.3937\n",
      "Epoch 257/400\n",
      "6/6 [==============================] - 0s 17ms/step - loss: 0.4178 - val_loss: 0.3974\n",
      "Epoch 258/400\n",
      "6/6 [==============================] - 0s 17ms/step - loss: 0.4253 - val_loss: 0.3981\n",
      "Epoch 259/400\n",
      "6/6 [==============================] - 0s 16ms/step - loss: 0.4191 - val_loss: 0.3967\n",
      "Epoch 260/400\n",
      "6/6 [==============================] - 0s 16ms/step - loss: 0.4225 - val_loss: 0.3966\n",
      "Epoch 261/400\n",
      "6/6 [==============================] - 0s 17ms/step - loss: 0.4060 - val_loss: 0.3948\n",
      "Epoch 262/400\n",
      "6/6 [==============================] - 0s 16ms/step - loss: 0.4007 - val_loss: 0.3935\n",
      "Epoch 263/400\n",
      "6/6 [==============================] - 0s 16ms/step - loss: 0.4053 - val_loss: 0.3926\n",
      "Epoch 264/400\n",
      "6/6 [==============================] - 0s 17ms/step - loss: 0.4299 - val_loss: 0.3931\n",
      "Epoch 265/400\n",
      "6/6 [==============================] - 0s 17ms/step - loss: 0.4271 - val_loss: 0.3990\n",
      "Epoch 266/400\n",
      "6/6 [==============================] - 0s 17ms/step - loss: 0.4098 - val_loss: 0.3990\n",
      "Epoch 267/400\n",
      "6/6 [==============================] - 0s 17ms/step - loss: 0.4166 - val_loss: 0.3939\n",
      "Epoch 268/400\n",
      "6/6 [==============================] - 0s 17ms/step - loss: 0.4342 - val_loss: 0.3918\n",
      "Epoch 269/400\n",
      "6/6 [==============================] - 0s 17ms/step - loss: 0.4355 - val_loss: 0.3920\n",
      "Epoch 270/400\n",
      "6/6 [==============================] - 0s 17ms/step - loss: 0.4114 - val_loss: 0.3945\n",
      "Epoch 271/400\n",
      "6/6 [==============================] - 0s 19ms/step - loss: 0.4085 - val_loss: 0.3951\n",
      "Epoch 272/400\n",
      "6/6 [==============================] - 0s 17ms/step - loss: 0.4297 - val_loss: 0.3915\n",
      "Epoch 273/400\n",
      "6/6 [==============================] - 0s 17ms/step - loss: 0.4121 - val_loss: 0.3910\n",
      "Epoch 274/400\n",
      "6/6 [==============================] - 0s 16ms/step - loss: 0.4239 - val_loss: 0.3923\n",
      "Epoch 275/400\n",
      "6/6 [==============================] - 0s 17ms/step - loss: 0.4100 - val_loss: 0.3948\n",
      "Epoch 276/400\n",
      "6/6 [==============================] - 0s 17ms/step - loss: 0.4360 - val_loss: 0.3926\n",
      "Epoch 277/400\n",
      "6/6 [==============================] - 0s 17ms/step - loss: 0.4158 - val_loss: 0.3913\n",
      "Epoch 278/400\n",
      "6/6 [==============================] - 0s 16ms/step - loss: 0.4317 - val_loss: 0.3901\n",
      "Epoch 279/400\n",
      "6/6 [==============================] - 0s 17ms/step - loss: 0.4236 - val_loss: 0.3911\n",
      "Epoch 280/400\n",
      "6/6 [==============================] - 0s 16ms/step - loss: 0.4120 - val_loss: 0.3912\n",
      "Epoch 281/400\n",
      "6/6 [==============================] - 0s 16ms/step - loss: 0.4126 - val_loss: 0.3889\n",
      "Epoch 282/400\n",
      "6/6 [==============================] - 0s 17ms/step - loss: 0.4342 - val_loss: 0.3887\n",
      "Epoch 283/400\n",
      "6/6 [==============================] - 0s 17ms/step - loss: 0.4257 - val_loss: 0.3901\n",
      "Epoch 284/400\n",
      "6/6 [==============================] - 0s 17ms/step - loss: 0.4121 - val_loss: 0.3902\n",
      "Epoch 285/400\n",
      "6/6 [==============================] - 0s 16ms/step - loss: 0.4240 - val_loss: 0.3895\n",
      "Epoch 286/400\n",
      "6/6 [==============================] - ETA: 0s - loss: 0.420 - 0s 16ms/step - loss: 0.4215 - val_loss: 0.3895\n",
      "Epoch 287/400\n",
      "6/6 [==============================] - 0s 17ms/step - loss: 0.4241 - val_loss: 0.3894\n",
      "Epoch 288/400\n",
      "6/6 [==============================] - 0s 16ms/step - loss: 0.4486 - val_loss: 0.3899\n",
      "Epoch 289/400\n",
      "6/6 [==============================] - 0s 17ms/step - loss: 0.4211 - val_loss: 0.3916\n",
      "Epoch 290/400\n",
      "6/6 [==============================] - 0s 16ms/step - loss: 0.4366 - val_loss: 0.3909\n",
      "Epoch 291/400\n",
      "6/6 [==============================] - 0s 17ms/step - loss: 0.4183 - val_loss: 0.3917\n",
      "Epoch 292/400\n",
      "6/6 [==============================] - 0s 17ms/step - loss: 0.4401 - val_loss: 0.3900\n",
      "Epoch 293/400\n",
      "6/6 [==============================] - 0s 17ms/step - loss: 0.4169 - val_loss: 0.3892\n",
      "Epoch 294/400\n",
      "6/6 [==============================] - 0s 17ms/step - loss: 0.4405 - val_loss: 0.3907\n",
      "Epoch 295/400\n",
      "6/6 [==============================] - 0s 17ms/step - loss: 0.4491 - val_loss: 0.3902\n",
      "Epoch 296/400\n",
      "6/6 [==============================] - 0s 17ms/step - loss: 0.4161 - val_loss: 0.3893\n",
      "Epoch 297/400\n",
      "6/6 [==============================] - 0s 16ms/step - loss: 0.4341 - val_loss: 0.3886\n",
      "Epoch 298/400\n",
      "6/6 [==============================] - 0s 17ms/step - loss: 0.4109 - val_loss: 0.3885\n",
      "Epoch 299/400\n",
      "6/6 [==============================] - 0s 17ms/step - loss: 0.4129 - val_loss: 0.3892\n",
      "Epoch 300/400\n",
      "6/6 [==============================] - 0s 17ms/step - loss: 0.4165 - val_loss: 0.3905\n",
      "Epoch 301/400\n",
      "6/6 [==============================] - 0s 16ms/step - loss: 0.4313 - val_loss: 0.3886\n",
      "Epoch 302/400\n",
      "6/6 [==============================] - 0s 16ms/step - loss: 0.4094 - val_loss: 0.3881\n",
      "Epoch 303/400\n",
      "6/6 [==============================] - 0s 16ms/step - loss: 0.4058 - val_loss: 0.3880\n",
      "Epoch 304/400\n",
      "6/6 [==============================] - 0s 16ms/step - loss: 0.4155 - val_loss: 0.3892\n",
      "Epoch 305/400\n",
      "6/6 [==============================] - 0s 17ms/step - loss: 0.4390 - val_loss: 0.3878\n",
      "Epoch 306/400\n",
      "6/6 [==============================] - 0s 16ms/step - loss: 0.4268 - val_loss: 0.3873\n",
      "Epoch 307/400\n",
      "6/6 [==============================] - 0s 16ms/step - loss: 0.4290 - val_loss: 0.3889\n",
      "Epoch 308/400\n",
      "6/6 [==============================] - 0s 16ms/step - loss: 0.4143 - val_loss: 0.3922\n",
      "Epoch 309/400\n",
      "6/6 [==============================] - 0s 17ms/step - loss: 0.4068 - val_loss: 0.3889\n",
      "Epoch 310/400\n",
      "6/6 [==============================] - 0s 17ms/step - loss: 0.4078 - val_loss: 0.3881\n",
      "Epoch 311/400\n",
      "6/6 [==============================] - 0s 16ms/step - loss: 0.4138 - val_loss: 0.3881\n",
      "Epoch 312/400\n",
      "6/6 [==============================] - 0s 17ms/step - loss: 0.4134 - val_loss: 0.3921\n",
      "Epoch 313/400\n",
      "6/6 [==============================] - 0s 17ms/step - loss: 0.4173 - val_loss: 0.3918\n",
      "Epoch 314/400\n",
      "6/6 [==============================] - 0s 17ms/step - loss: 0.4001 - val_loss: 0.3896\n",
      "Epoch 315/400\n",
      "6/6 [==============================] - 0s 17ms/step - loss: 0.4084 - val_loss: 0.3883\n",
      "Epoch 316/400\n",
      "6/6 [==============================] - 0s 16ms/step - loss: 0.4182 - val_loss: 0.3909\n",
      "Epoch 317/400\n",
      "6/6 [==============================] - 0s 17ms/step - loss: 0.4232 - val_loss: 0.3896\n",
      "Epoch 318/400\n",
      "6/6 [==============================] - 0s 16ms/step - loss: 0.4086 - val_loss: 0.3922\n",
      "Epoch 319/400\n",
      "6/6 [==============================] - 0s 16ms/step - loss: 0.4318 - val_loss: 0.3920\n",
      "Epoch 320/400\n",
      "6/6 [==============================] - 0s 17ms/step - loss: 0.4142 - val_loss: 0.3889\n",
      "Epoch 321/400\n",
      "6/6 [==============================] - 0s 17ms/step - loss: 0.4060 - val_loss: 0.3882\n",
      "Epoch 322/400\n",
      "6/6 [==============================] - 0s 16ms/step - loss: 0.4080 - val_loss: 0.3894\n",
      "Epoch 323/400\n",
      "6/6 [==============================] - 0s 17ms/step - loss: 0.4259 - val_loss: 0.3914\n",
      "Epoch 324/400\n",
      "6/6 [==============================] - 0s 17ms/step - loss: 0.4106 - val_loss: 0.3884\n",
      "Epoch 325/400\n",
      "6/6 [==============================] - 0s 16ms/step - loss: 0.4265 - val_loss: 0.3873\n",
      "Epoch 326/400\n",
      "6/6 [==============================] - 0s 17ms/step - loss: 0.3882 - val_loss: 0.3869\n",
      "Epoch 327/400\n",
      "6/6 [==============================] - 0s 17ms/step - loss: 0.4282 - val_loss: 0.3865\n",
      "Epoch 328/400\n"
     ]
    },
    {
     "name": "stdout",
     "output_type": "stream",
     "text": [
      "6/6 [==============================] - 0s 16ms/step - loss: 0.4361 - val_loss: 0.3870\n",
      "Epoch 329/400\n",
      "6/6 [==============================] - 0s 17ms/step - loss: 0.4392 - val_loss: 0.3858\n",
      "Epoch 330/400\n",
      "6/6 [==============================] - 0s 17ms/step - loss: 0.4167 - val_loss: 0.3861\n",
      "Epoch 331/400\n",
      "6/6 [==============================] - 0s 17ms/step - loss: 0.4189 - val_loss: 0.3865\n",
      "Epoch 332/400\n",
      "6/6 [==============================] - 0s 17ms/step - loss: 0.4017 - val_loss: 0.3858\n",
      "Epoch 333/400\n",
      "6/6 [==============================] - 0s 17ms/step - loss: 0.3972 - val_loss: 0.3831\n",
      "Epoch 334/400\n",
      "6/6 [==============================] - 0s 17ms/step - loss: 0.3980 - val_loss: 0.3827\n",
      "Epoch 335/400\n",
      "6/6 [==============================] - 0s 17ms/step - loss: 0.4329 - val_loss: 0.3830\n",
      "Epoch 336/400\n",
      "6/6 [==============================] - 0s 17ms/step - loss: 0.4277 - val_loss: 0.3827\n",
      "Epoch 337/400\n",
      "6/6 [==============================] - 0s 16ms/step - loss: 0.4030 - val_loss: 0.3839\n",
      "Epoch 338/400\n",
      "6/6 [==============================] - 0s 17ms/step - loss: 0.4059 - val_loss: 0.3830\n",
      "Epoch 339/400\n",
      "6/6 [==============================] - 0s 16ms/step - loss: 0.4008 - val_loss: 0.3829\n",
      "Epoch 340/400\n",
      "6/6 [==============================] - 0s 14ms/step - loss: 0.4209 - val_loss: 0.3853\n",
      "Epoch 341/400\n",
      "6/6 [==============================] - 0s 24ms/step - loss: 0.3969 - val_loss: 0.3844\n",
      "Epoch 342/400\n",
      "6/6 [==============================] - 0s 20ms/step - loss: 0.4281 - val_loss: 0.3834\n",
      "Epoch 343/400\n",
      "6/6 [==============================] - 0s 17ms/step - loss: 0.4175 - val_loss: 0.3814\n",
      "Epoch 344/400\n",
      "6/6 [==============================] - 0s 16ms/step - loss: 0.4076 - val_loss: 0.3809\n",
      "Epoch 345/400\n",
      "6/6 [==============================] - 0s 16ms/step - loss: 0.4176 - val_loss: 0.3816\n",
      "Epoch 346/400\n",
      "6/6 [==============================] - 0s 16ms/step - loss: 0.4082 - val_loss: 0.3805\n",
      "Epoch 347/400\n",
      "6/6 [==============================] - 0s 16ms/step - loss: 0.4111 - val_loss: 0.3804\n",
      "Epoch 348/400\n",
      "6/6 [==============================] - 0s 17ms/step - loss: 0.4365 - val_loss: 0.3807\n",
      "Epoch 349/400\n",
      "6/6 [==============================] - 0s 16ms/step - loss: 0.4098 - val_loss: 0.3814\n",
      "Epoch 350/400\n",
      "6/6 [==============================] - 0s 16ms/step - loss: 0.4112 - val_loss: 0.3798\n",
      "Epoch 351/400\n",
      "6/6 [==============================] - 0s 17ms/step - loss: 0.4410 - val_loss: 0.3810\n",
      "Epoch 352/400\n",
      "6/6 [==============================] - 0s 17ms/step - loss: 0.3971 - val_loss: 0.3847\n",
      "Epoch 353/400\n",
      "6/6 [==============================] - 0s 17ms/step - loss: 0.4105 - val_loss: 0.3829\n",
      "Epoch 354/400\n",
      "6/6 [==============================] - 0s 16ms/step - loss: 0.3942 - val_loss: 0.3805\n",
      "Epoch 355/400\n",
      "6/6 [==============================] - 0s 17ms/step - loss: 0.4230 - val_loss: 0.3801\n",
      "Epoch 356/400\n",
      "6/6 [==============================] - 0s 17ms/step - loss: 0.4159 - val_loss: 0.3786\n",
      "Epoch 357/400\n",
      "6/6 [==============================] - 0s 17ms/step - loss: 0.4081 - val_loss: 0.3842\n",
      "Epoch 358/400\n",
      "6/6 [==============================] - 0s 17ms/step - loss: 0.4283 - val_loss: 0.3826\n",
      "Epoch 359/400\n",
      "6/6 [==============================] - 0s 17ms/step - loss: 0.4026 - val_loss: 0.3792\n",
      "Epoch 360/400\n",
      "6/6 [==============================] - 0s 17ms/step - loss: 0.3879 - val_loss: 0.3792\n",
      "Epoch 361/400\n",
      "6/6 [==============================] - 0s 14ms/step - loss: 0.4199 - val_loss: 0.3795\n",
      "Epoch 362/400\n",
      "6/6 [==============================] - 0s 16ms/step - loss: 0.4262 - val_loss: 0.3794\n",
      "Epoch 363/400\n",
      "6/6 [==============================] - 0s 16ms/step - loss: 0.4032 - val_loss: 0.3814\n",
      "Epoch 364/400\n",
      "6/6 [==============================] - 0s 16ms/step - loss: 0.4425 - val_loss: 0.3795\n",
      "Epoch 365/400\n",
      "6/6 [==============================] - 0s 18ms/step - loss: 0.3978 - val_loss: 0.3797\n",
      "Epoch 366/400\n",
      "6/6 [==============================] - 0s 17ms/step - loss: 0.4160 - val_loss: 0.3786\n",
      "Epoch 367/400\n",
      "6/6 [==============================] - 0s 17ms/step - loss: 0.4037 - val_loss: 0.3787\n",
      "Epoch 368/400\n",
      "6/6 [==============================] - 0s 17ms/step - loss: 0.4138 - val_loss: 0.3827\n",
      "Epoch 369/400\n",
      "6/6 [==============================] - 0s 16ms/step - loss: 0.4228 - val_loss: 0.3879\n",
      "Epoch 370/400\n",
      "6/6 [==============================] - 0s 17ms/step - loss: 0.4082 - val_loss: 0.3817\n",
      "Epoch 371/400\n",
      "6/6 [==============================] - 0s 16ms/step - loss: 0.4300 - val_loss: 0.3799\n",
      "Epoch 372/400\n",
      "6/6 [==============================] - 0s 17ms/step - loss: 0.4086 - val_loss: 0.3784\n",
      "Epoch 373/400\n",
      "6/6 [==============================] - 0s 17ms/step - loss: 0.3943 - val_loss: 0.3789\n",
      "Epoch 374/400\n",
      "6/6 [==============================] - 0s 16ms/step - loss: 0.4148 - val_loss: 0.3837\n",
      "Epoch 375/400\n",
      "6/6 [==============================] - 0s 17ms/step - loss: 0.4344 - val_loss: 0.3806\n",
      "Epoch 376/400\n",
      "6/6 [==============================] - 0s 16ms/step - loss: 0.3914 - val_loss: 0.3801\n",
      "Epoch 377/400\n",
      "6/6 [==============================] - 0s 14ms/step - loss: 0.3994 - val_loss: 0.3799\n",
      "Epoch 378/400\n",
      "6/6 [==============================] - 0s 17ms/step - loss: 0.4108 - val_loss: 0.3801\n",
      "Epoch 379/400\n",
      "6/6 [==============================] - 0s 15ms/step - loss: 0.4068 - val_loss: 0.3810\n",
      "Epoch 380/400\n",
      "6/6 [==============================] - 0s 17ms/step - loss: 0.4078 - val_loss: 0.3793\n",
      "Epoch 381/400\n",
      "6/6 [==============================] - 0s 16ms/step - loss: 0.4168 - val_loss: 0.3790\n",
      "Epoch 382/400\n",
      "6/6 [==============================] - 0s 16ms/step - loss: 0.4134 - val_loss: 0.3821\n",
      "Epoch 383/400\n",
      "6/6 [==============================] - 0s 17ms/step - loss: 0.4078 - val_loss: 0.3837\n",
      "Epoch 384/400\n",
      "6/6 [==============================] - 0s 16ms/step - loss: 0.4398 - val_loss: 0.3803\n",
      "Epoch 385/400\n",
      "6/6 [==============================] - 0s 17ms/step - loss: 0.4184 - val_loss: 0.3794\n",
      "Epoch 386/400\n",
      "6/6 [==============================] - 0s 16ms/step - loss: 0.4107 - val_loss: 0.3785\n",
      "Epoch 387/400\n",
      "6/6 [==============================] - 0s 17ms/step - loss: 0.4290 - val_loss: 0.3787\n",
      "Epoch 388/400\n",
      "6/6 [==============================] - 0s 16ms/step - loss: 0.3934 - val_loss: 0.3792\n",
      "Epoch 389/400\n",
      "6/6 [==============================] - 0s 16ms/step - loss: 0.4108 - val_loss: 0.3807\n",
      "Epoch 390/400\n",
      "6/6 [==============================] - 0s 17ms/step - loss: 0.4284 - val_loss: 0.3784\n",
      "Epoch 391/400\n",
      "6/6 [==============================] - ETA: 0s - loss: 0.431 - 0s 16ms/step - loss: 0.4185 - val_loss: 0.3782\n",
      "Epoch 392/400\n",
      "6/6 [==============================] - 0s 16ms/step - loss: 0.4085 - val_loss: 0.3774\n",
      "Epoch 393/400\n",
      "6/6 [==============================] - 0s 16ms/step - loss: 0.4124 - val_loss: 0.3779\n",
      "Epoch 394/400\n",
      "6/6 [==============================] - 0s 17ms/step - loss: 0.4249 - val_loss: 0.3790\n",
      "Epoch 395/400\n",
      "6/6 [==============================] - 0s 17ms/step - loss: 0.4053 - val_loss: 0.3789\n",
      "Epoch 396/400\n",
      "6/6 [==============================] - ETA: 0s - loss: 0.383 - 0s 16ms/step - loss: 0.4069 - val_loss: 0.3785\n",
      "Epoch 397/400\n",
      "6/6 [==============================] - 0s 17ms/step - loss: 0.4206 - val_loss: 0.3794\n",
      "Epoch 398/400\n",
      "6/6 [==============================] - 0s 17ms/step - loss: 0.4103 - val_loss: 0.3795\n",
      "Epoch 399/400\n",
      "6/6 [==============================] - 0s 17ms/step - loss: 0.4358 - val_loss: 0.3781\n",
      "Epoch 400/400\n",
      "6/6 [==============================] - 0s 17ms/step - loss: 0.4202 - val_loss: 0.3773\n"
     ]
    },
    {
     "data": {
      "text/plain": [
       "<tensorflow.python.keras.callbacks.History at 0x1cf3ffa05b0>"
      ]
     },
     "execution_count": 32,
     "metadata": {},
     "output_type": "execute_result"
    }
   ],
   "source": [
    "model.fit(x=X_train , y=y_train, epochs = 400, validation_data=(X_test, y_test), batch_size=128)"
   ]
  },
  {
   "cell_type": "code",
   "execution_count": 33,
   "metadata": {},
   "outputs": [
    {
     "data": {
      "text/plain": [
       "<matplotlib.axes._subplots.AxesSubplot at 0x1cf417524f0>"
      ]
     },
     "execution_count": 33,
     "metadata": {},
     "output_type": "execute_result"
    },
    {
     "data": {
      "image/png": "[encoded data removed]",
      "text/plain": [
       "<Figure size 432x288 with 1 Axes>"
      ]
     },
     "metadata": {
      "needs_background": "light"
     },
     "output_type": "display_data"
    }
   ],
   "source": [
    "pd.DataFrame(model.history.history).plot()"
   ]
  },
  {
   "cell_type": "code",
   "execution_count": 34,
   "metadata": {},
   "outputs": [
    {
     "name": "stderr",
     "output_type": "stream",
     "text": [
      "C:\\ProgramData\\Anaconda3\\lib\\site-packages\\tensorflow\\python\\keras\\engine\\sequential.py:450: UserWarning: `model.predict_classes()` is deprecated and will be removed after 2021-01-01. Please use instead:* `np.argmax(model.predict(x), axis=-1)`,   if your model does multi-class classification   (e.g. if it uses a `softmax` last-layer activation).* `(model.predict(x) > 0.5).astype(\"int32\")`,   if your model does binary classification   (e.g. if it uses a `sigmoid` last-layer activation).\n",
      "  warnings.warn('`model.predict_classes()` is deprecated and '\n"
     ]
    }
   ],
   "source": [
    "predictions = model.predict_classes(X_test)"
   ]
  },
  {
   "cell_type": "code",
   "execution_count": 35,
   "metadata": {},
   "outputs": [],
   "source": [
    "from sklearn.metrics import classification_report,confusion_matrix"
   ]
  },
  {
   "cell_type": "code",
   "execution_count": 36,
   "metadata": {},
   "outputs": [
    {
     "name": "stdout",
     "output_type": "stream",
     "text": [
      "              precision    recall  f1-score   support\n",
      "\n",
      "           0       0.82      0.94      0.87       136\n",
      "           1       0.88      0.67      0.76        87\n",
      "\n",
      "    accuracy                           0.83       223\n",
      "   macro avg       0.85      0.80      0.82       223\n",
      "weighted avg       0.84      0.83      0.83       223\n",
      "\n"
     ]
    }
   ],
   "source": [
    "print(classification_report(y_test,predictions))"
   ]
  },
  {
   "cell_type": "code",
   "execution_count": 37,
   "metadata": {},
   "outputs": [
    {
     "name": "stdout",
     "output_type": "stream",
     "text": [
      "[[128   8]\n",
      " [ 29  58]]\n"
     ]
    }
   ],
   "source": [
    "print(confusion_matrix(y_test,predictions))"
   ]
  },
  {
   "cell_type": "code",
   "execution_count": 38,
   "metadata": {},
   "outputs": [
    {
     "data": {
      "text/html": [
       "<div>\n",
       "<style scoped>\n",
       "    .dataframe tbody tr th:only-of-type {\n",
       "        vertical-align: middle;\n",
       "    }\n",
       "\n",
       "    .dataframe tbody tr th {\n",
       "        vertical-align: top;\n",
       "    }\n",
       "\n",
       "    .dataframe thead th {\n",
       "        text-align: right;\n",
       "    }\n",
       "</style>\n",
       "<table border=\"1\" class=\"dataframe\">\n",
       "  <thead>\n",
       "    <tr style=\"text-align: right;\">\n",
       "      <th></th>\n",
       "      <th>Pclass</th>\n",
       "      <th>Age</th>\n",
       "      <th>SibSp</th>\n",
       "      <th>Parch</th>\n",
       "      <th>Fare</th>\n",
       "      <th>male</th>\n",
       "      <th>Q</th>\n",
       "      <th>S</th>\n",
       "    </tr>\n",
       "  </thead>\n",
       "  <tbody>\n",
       "    <tr>\n",
       "      <th>0</th>\n",
       "      <td>3</td>\n",
       "      <td>34.5</td>\n",
       "      <td>0</td>\n",
       "      <td>0</td>\n",
       "      <td>7.8292</td>\n",
       "      <td>1</td>\n",
       "      <td>1</td>\n",
       "      <td>0</td>\n",
       "    </tr>\n",
       "    <tr>\n",
       "      <th>1</th>\n",
       "      <td>3</td>\n",
       "      <td>47.0</td>\n",
       "      <td>1</td>\n",
       "      <td>0</td>\n",
       "      <td>7.0000</td>\n",
       "      <td>0</td>\n",
       "      <td>0</td>\n",
       "      <td>1</td>\n",
       "    </tr>\n",
       "    <tr>\n",
       "      <th>2</th>\n",
       "      <td>2</td>\n",
       "      <td>62.0</td>\n",
       "      <td>0</td>\n",
       "      <td>0</td>\n",
       "      <td>9.6875</td>\n",
       "      <td>1</td>\n",
       "      <td>1</td>\n",
       "      <td>0</td>\n",
       "    </tr>\n",
       "    <tr>\n",
       "      <th>3</th>\n",
       "      <td>3</td>\n",
       "      <td>27.0</td>\n",
       "      <td>0</td>\n",
       "      <td>0</td>\n",
       "      <td>8.6625</td>\n",
       "      <td>1</td>\n",
       "      <td>0</td>\n",
       "      <td>1</td>\n",
       "    </tr>\n",
       "    <tr>\n",
       "      <th>4</th>\n",
       "      <td>3</td>\n",
       "      <td>22.0</td>\n",
       "      <td>1</td>\n",
       "      <td>1</td>\n",
       "      <td>12.2875</td>\n",
       "      <td>0</td>\n",
       "      <td>0</td>\n",
       "      <td>1</td>\n",
       "    </tr>\n",
       "  </tbody>\n",
       "</table>\n",
       "</div>"
      ],
      "text/plain": [
       "   Pclass   Age  SibSp  Parch     Fare  male  Q  S\n",
       "0       3  34.5      0      0   7.8292     1  1  0\n",
       "1       3  47.0      1      0   7.0000     0  0  1\n",
       "2       2  62.0      0      0   9.6875     1  1  0\n",
       "3       3  27.0      0      0   8.6625     1  0  1\n",
       "4       3  22.0      1      1  12.2875     0  0  1"
      ]
     },
     "execution_count": 38,
     "metadata": {},
     "output_type": "execute_result"
    }
   ],
   "source": [
    "df_test.head()"
   ]
  },
  {
   "cell_type": "code",
   "execution_count": 39,
   "metadata": {},
   "outputs": [
    {
     "data": {
      "text/plain": [
       "<matplotlib.axes._subplots.AxesSubplot at 0x1cf400162e0>"
      ]
     },
     "execution_count": 39,
     "metadata": {},
     "output_type": "execute_result"
    },
    {
     "data": {
      "image/png": "[encoded data removed]",
      "text/plain": [
       "<Figure size 1080x432 with 1 Axes>"
      ]
     },
     "metadata": {
      "needs_background": "light"
     },
     "output_type": "display_data"
    }
   ],
   "source": [
    "plt.figure(figsize=(15,6))\n",
    "plt.xlabel(\"Attributes name\")\n",
    "plt.ylabel(\"Missing values\")\n",
    "plt.title(\"Missing values in different attribues of train dataset \")\n",
    "df_test.isnull().sum().plot(kind='bar')"
   ]
  },
  {
   "cell_type": "code",
   "execution_count": 40,
   "metadata": {},
   "outputs": [
    {
     "data": {
      "text/plain": [
       "Index(['Pclass', 'Age', 'SibSp', 'Parch', 'Fare', 'male', 'Q', 'S'], dtype='object')"
      ]
     },
     "execution_count": 40,
     "metadata": {},
     "output_type": "execute_result"
    }
   ],
   "source": [
    "df_test.columns"
   ]
  },
  {
   "cell_type": "code",
   "execution_count": 41,
   "metadata": {},
   "outputs": [
    {
     "name": "stderr",
     "output_type": "stream",
     "text": [
      "C:\\ProgramData\\Anaconda3\\lib\\site-packages\\tensorflow\\python\\keras\\engine\\sequential.py:450: UserWarning: `model.predict_classes()` is deprecated and will be removed after 2021-01-01. Please use instead:* `np.argmax(model.predict(x), axis=-1)`,   if your model does multi-class classification   (e.g. if it uses a `softmax` last-layer activation).* `(model.predict(x) > 0.5).astype(\"int32\")`,   if your model does binary classification   (e.g. if it uses a `sigmoid` last-layer activation).\n",
      "  warnings.warn('`model.predict_classes()` is deprecated and '\n"
     ]
    }
   ],
   "source": [
    "predictions =model.predict_classes(df_test)"
   ]
  },
  {
   "cell_type": "code",
   "execution_count": 42,
   "metadata": {},
   "outputs": [],
   "source": [
    "df_res = pd.DataFrame(id)"
   ]
  },
  {
   "cell_type": "code",
   "execution_count": 43,
   "metadata": {},
   "outputs": [],
   "source": [
    "df_res['Survived'] = predictions "
   ]
  },
  {
   "cell_type": "code",
   "execution_count": 44,
   "metadata": {},
   "outputs": [
    {
     "data": {
      "text/html": [
       "<div>\n",
       "<style scoped>\n",
       "    .dataframe tbody tr th:only-of-type {\n",
       "        vertical-align: middle;\n",
       "    }\n",
       "\n",
       "    .dataframe tbody tr th {\n",
       "        vertical-align: top;\n",
       "    }\n",
       "\n",
       "    .dataframe thead th {\n",
       "        text-align: right;\n",
       "    }\n",
       "</style>\n",
       "<table border=\"1\" class=\"dataframe\">\n",
       "  <thead>\n",
       "    <tr style=\"text-align: right;\">\n",
       "      <th></th>\n",
       "      <th>PassengerId</th>\n",
       "      <th>Survived</th>\n",
       "    </tr>\n",
       "  </thead>\n",
       "  <tbody>\n",
       "    <tr>\n",
       "      <th>0</th>\n",
       "      <td>892</td>\n",
       "      <td>0</td>\n",
       "    </tr>\n",
       "    <tr>\n",
       "      <th>1</th>\n",
       "      <td>893</td>\n",
       "      <td>1</td>\n",
       "    </tr>\n",
       "    <tr>\n",
       "      <th>2</th>\n",
       "      <td>894</td>\n",
       "      <td>1</td>\n",
       "    </tr>\n",
       "    <tr>\n",
       "      <th>3</th>\n",
       "      <td>895</td>\n",
       "      <td>1</td>\n",
       "    </tr>\n",
       "    <tr>\n",
       "      <th>4</th>\n",
       "      <td>896</td>\n",
       "      <td>1</td>\n",
       "    </tr>\n",
       "    <tr>\n",
       "      <th>...</th>\n",
       "      <td>...</td>\n",
       "      <td>...</td>\n",
       "    </tr>\n",
       "    <tr>\n",
       "      <th>413</th>\n",
       "      <td>1305</td>\n",
       "      <td>1</td>\n",
       "    </tr>\n",
       "    <tr>\n",
       "      <th>414</th>\n",
       "      <td>1306</td>\n",
       "      <td>1</td>\n",
       "    </tr>\n",
       "    <tr>\n",
       "      <th>415</th>\n",
       "      <td>1307</td>\n",
       "      <td>0</td>\n",
       "    </tr>\n",
       "    <tr>\n",
       "      <th>416</th>\n",
       "      <td>1308</td>\n",
       "      <td>1</td>\n",
       "    </tr>\n",
       "    <tr>\n",
       "      <th>417</th>\n",
       "      <td>1309</td>\n",
       "      <td>1</td>\n",
       "    </tr>\n",
       "  </tbody>\n",
       "</table>\n",
       "<p>418 rows × 2 columns</p>\n",
       "</div>"
      ],
      "text/plain": [
       "     PassengerId  Survived\n",
       "0            892         0\n",
       "1            893         1\n",
       "2            894         1\n",
       "3            895         1\n",
       "4            896         1\n",
       "..           ...       ...\n",
       "413         1305         1\n",
       "414         1306         1\n",
       "415         1307         0\n",
       "416         1308         1\n",
       "417         1309         1\n",
       "\n",
       "[418 rows x 2 columns]"
      ]
     },
     "execution_count": 44,
     "metadata": {},
     "output_type": "execute_result"
    }
   ],
   "source": [
    "df_res"
   ]
  },
  {
   "cell_type": "code",
   "execution_count": 45,
   "metadata": {},
   "outputs": [],
   "source": [
    "df_res.to_csv('./titanicSub.csv', index=False)"
   ]
  },
  {
   "cell_type": "code",
   "execution_count": 46,
   "metadata": {},
   "outputs": [
    {
     "data": {
      "text/plain": [
       "(418, 2)"
      ]
     },
     "execution_count": 46,
     "metadata": {},
     "output_type": "execute_result"
    }
   ],
   "source": [
    "df_res.shape"
   ]
  },
  {
   "cell_type": "code",
   "execution_count": 51,
   "metadata": {},
   "outputs": [
    {
     "data": {
      "text/plain": [
       "<matplotlib.axes._subplots.AxesSubplot at 0x1cf43529e50>"
      ]
     },
     "execution_count": 51,
     "metadata": {},
     "output_type": "execute_result"
    },
    {
     "data": {
      "image/png": "[encoded data removed]",
      "text/plain": [
       "<Figure size 432x288 with 1 Axes>"
      ]
     },
     "metadata": {
      "needs_background": "light"
     },
     "output_type": "display_data"
    }
   ],
   "source": [
    "sns.countplot(df_train['Survived'], hue=df_train['male'])"
   ]
  },
  {
   "cell_type": "code",
   "execution_count": null,
   "metadata": {},
   "outputs": [],
   "source": []
  }
 ],
 "metadata": {
  "kernelspec": {
   "display_name": "Python 3",
   "language": "python",
   "name": "python3"
  },
  "language_info": {
   "codemirror_mode": {
    "name": "ipython",
    "version": 3
   },
   "file_extension": ".py",
   "mimetype": "text/x-python",
   "name": "python",
   "nbconvert_exporter": "python",
   "pygments_lexer": "ipython3",
   "version": "3.8.3"
  }
 },
 "nbformat": 4,
 "nbformat_minor": 4
}
